{
 "cells": [
  {
   "cell_type": "code",
   "execution_count": null,
   "id": "c0dc0da4",
   "metadata": {},
   "outputs": [],
   "source": [
    "\"\"\"\n",
    "File_name: 2023-09-07_2023-09-15_jennifer_pca.txt\n",
    "Author: Jennifer Fortuny I Zhan\n",
    "Date: Thursday, 2023-09-07\n",
    "\"\"\"\n",
    "\"\"\"\n",
    "This file breifly explains the steps I took to carry out the PCA analysis.\n",
    "The PCA analysis considers these three required aspects.\n",
    "(standarisation of data by standard deviation - if attributes have different scales.)\n",
    "1. The amount of variation explained as a function of the number of PCA components included.\n",
    "2. The principal directions of the considered PCA components (by plotting or interpretation in temrs of the features).\n",
    "3. The data projected onto the considered principal components.\n",
    "----------------------------------------------------------------------------------------------------------------------------------\n",
    "Based on the assignment's requirements, below is an outline of the steps I took to complete the principal component analysis (PCA).\n",
    "\n",
    "Create Data Visualisation:\n",
    "1. Check for outliers.\n",
    "2. Check if the attributes are normally distributed\n",
    "3. Check correlations between variables.\n",
    "\n",
    "After getting a good understanding of the data, if needed,\n",
    "I will carry out a standarisation using standard deviation\n",
    "\n",
    "Carry out PCA:\n",
    "1. Explain the variations compared to the number of PCA components.\n",
    "2. What is the principal directions of the PCA components?\n",
    "3. Project the data onto the principal components in consideration.\n",
    "----------------------------------------------------------------------------------------------------------------------------------\n",
    "\"\"\"\n",
    "# Beofre carrying out any work, I import my required libraries, and load my data into a pandas DataFrame:\n",
    "# import libraries\n",
    "import pandas as pd\n",
    "import numpy as np\n",
    "import matplotlib.pyplot as plt\n",
    "import seaborn as sns\n",
    "import statsmodels.api as sm\n",
    "from sklearn.decomposition import PCA\n",
    "from sklearn.preprocessing import StandardScaler"
   ]
  },
  {
   "cell_type": "code",
   "execution_count": null,
   "id": "77d3ede9",
   "metadata": {
    "lines_to_next_cell": 2
   },
   "outputs": [],
   "source": [
    "# load data:\n",
    "data= pd.read_csv('/Users/jenniferfortuny/02450_project/2023-09-15_jennifer_pca_section/2023-09-08_jennifer_filtered_complete_copy.csv')"
   ]
  },
  {
   "cell_type": "code",
   "execution_count": null,
   "id": "974a9262",
   "metadata": {
    "lines_to_next_cell": 2
   },
   "outputs": [],
   "source": [
    "\"\"\"\n",
    "Create Data Visualisation:\n",
    "--------------------------------------------------------------------------------------------------------------------------------\n",
    "1. Check for outliers.\n",
    "For the continuous attributes: age, edu-num, hour-per-week.\n",
    "I make a histogram with a boxplot.\n",
    "\n",
    "For the categorical attributes: workclass, occupation.\n",
    "I only make a histogram.\n",
    "\"\"\"\n",
    "# I begin by splitting my attributes into two lists:\n",
    "continuous_attributes = data.columns[:3]\n",
    "categorical_attributes = data.columns[3:]\n",
    "# I use one-hot encoding to encode categorical attributes\n",
    "categorical_encoded = pd.get_dummies(data, columns=categorical_attributes, drop_first=True)"
   ]
  },
  {
   "cell_type": "code",
   "execution_count": null,
   "id": "7fd02599",
   "metadata": {
    "lines_to_next_cell": 2
   },
   "outputs": [],
   "source": [
    "# I plot the histogram with box plot for each of the three continous attributes:\n",
    "for column in continuous_attributes:\n",
    "    fig = plt.figure(figsize=(10, 6))\n",
    "\n",
    "    # Create grid\n",
    "    gs = fig.add_gridspec(2, 1, height_ratios=[4, 1])\n",
    "    ax1 = fig.add_subplot(gs[0])\n",
    "    ax2 = fig.add_subplot(gs[1])\n",
    "\n",
    "    # Histogram on the top axis (ax1)\n",
    "    sns.histplot(data[column], kde = True, ax = ax1)\n",
    "    ax1.set_title(f'Histogram with Boxplot for {column}')\n",
    "    ax1.set_xlabel('') # This is to keep the x-axis label empty on the top\n",
    "    ax1.set_ylabel('Frequency')\n",
    "\n",
    "    # Box plot on the bottom axis (ax2)\n",
    "    sns.boxplot(x = data[column], ax = ax2)\n",
    "    ax2.set_xlabel(column)\n",
    "\n",
    "    # I find and label the outliers on the box plot\n",
    "    Q1 = data[column].quantile(0.25)\n",
    "    Q3 = data[column].quantile(0.75)\n",
    "    IQR = Q3 - Q1\n",
    "    outliers = data[(data[column] < (Q1 - 1.5 * IQR))\n",
    "                                   | (data[column] > (Q3 + 1.5 * IQR))][column]\n",
    "    for outlier in outliers:\n",
    "        ax2.text(outlier, -0.18, f'{outlier:.0f}', ha='center', va='top', fontsize=8, color='blue')\n",
    "        # -0.02 places my text at y = -0.02, i.e. below the dot on the box plot.\n",
    "    plt.tight_layout()\n",
    "    ax2.set_ylabel(column)\n",
    "    plt.show()"
   ]
  },
  {
   "cell_type": "code",
   "execution_count": null,
   "id": "701177da",
   "metadata": {},
   "outputs": [],
   "source": [
    "# I plot the histogram-only plots for each of the three continous attributes:\n",
    "for column in categorical_attributes:\n",
    "    plt.figure(figsize=(10, 6))\n",
    "    sns.histplot(data[column], kde = True)\n",
    "    plt.title(f'Histogram for {column}')\n",
    "    plt.xlabel(column)\n",
    "    plt.ylabel('Frequency')\n",
    "    # I angle the x-axis labels a bit to show all the words clearly\n",
    "    plt.xticks(rotation=20, ha='right', fontsize=10)\n",
    "\n",
    "    plt.tight_layout()\n",
    "    plt.show()"
   ]
  },
  {
   "cell_type": "code",
   "execution_count": null,
   "id": "40d133d6",
   "metadata": {},
   "outputs": [],
   "source": [
    "\"\"\"\n",
    "2. Check for outliers.\n",
    "# To check if the attributes are normally distributes,\n",
    "# I will begin by reflectiong on the results of the histograms:\n",
    "# continous attributes:\n",
    "#     age: tail to the right, so right sqewed distribution.\n",
    "#     edu-num: looks like a bimodial distribution.\n",
    "#     hours-per-week: looks like an extreme plot with on highly frequent value at 35-40.\n",
    "# categorical attributes:\n",
    "#    workclass: extreme with \"Private\" at the highest frequency.\n",
    "#    occupation: some outliers, most seem to be at the similar frequency, no clear trend.\n",
    "\n",
    "# I will use Q-Q plots to determin if they attributes have a formal normal distribution.\n",
    "# If the data are mostly on the y=x line in the Q-Q plot, then we can assume there is a normal distribution.\n",
    "# I will plot the continous variables' Q-Q plots:\n",
    "\"\"\""
   ]
  },
  {
   "cell_type": "code",
   "execution_count": null,
   "id": "10de71ed",
   "metadata": {},
   "outputs": [],
   "source": [
    "# I will rename the previous variable:\n",
    "for column in continuous_attributes:\n",
    "    # Since I am also using statsmodels now, in addition to matplotlib.\n",
    "    # Here I create a figure and axis just for the Q-Q plot\n",
    "    plt.figure(figsize=(10, 6))\n",
    "    sm.qqplot(data[column].dropna(), line = '45', fit = True)\n",
    "    plt.title(f'Q-Q Plot for {column}')\n",
    "    plt.show()\n",
    "    plt.close()\n",
    "\"\"\"\n",
    "Notes:\n",
    "The age attribute shows a U-shape pattern.\n",
    "The points fall below the y=x line at the lower end, and above the line at the higher end.\n",
    "This suggests we have fewere extreme values than we would expect compared to a perfect normal distribution\n",
    "i.e. it is a lighter-tailed than a normal distribution.\n",
    "Therefore we have a somewhat uniform distribution, what is more concentrated around the median, less so towards the tails.\n",
    "This means our data could have a wide range of ages, \n",
    "and when compared to a normal distribution -  as many individuals who are very young or very old.\n",
    "This could be becasue the data is focused on working age adults, which would include less people who are very young or very old.\n",
    "The right skew in the histogram suggests relatively less older individuals than younger ones.\n",
    "\n",
    "The edu-num distribution shows a shape similar to w, this suggests a binomial distribution, in agreement with the histogram.\n",
    "This suggests the data has two major distributions of education levels.\n",
    "\n",
    "The hours-per-week Q-Q plot shows a sharp incline, a long flat section, then another sharp incline.\n",
    "The flat section is the major accumulation of the data, with coincides with the histogram.\n",
    "The large portion of the dataset are people who work standard full-time hours.\n",
    "This is a non-linear Q-Q plot, so it does NOT show a normal distribution.\n",
    "\n",
    "For the categorical variables, I don't expect a normal distribution.\n",
    "It might be more valuable to understand the frequency and mode of these attributes.\n",
    "From the observations of the histogram:\n",
    "The workclass attributes prodominatly represents the private sector.\n",
    "The occpupation attribute shows a more uniform distribution, with some roles acting as outliers.\n",
    "\"\"\""
   ]
  },
  {
   "cell_type": "code",
   "execution_count": null,
   "id": "e67e4f4c",
   "metadata": {
    "lines_to_next_cell": 2
   },
   "outputs": [],
   "source": [
    "\"\"\"\n",
    "3. Check correlations between variables.\n",
    "I want to visualise this continous with a heatmap, using a correlation matrix.\n",
    "This will help show the relationships between the continous variables.\n",
    "\"\"\""
   ]
  },
  {
   "cell_type": "code",
   "execution_count": null,
   "id": "38ba7d3e",
   "metadata": {},
   "outputs": [],
   "source": [
    "# First a calculate the correlation matrix:\n",
    "corr = data[continuous_attributes].corr()"
   ]
  },
  {
   "cell_type": "code",
   "execution_count": null,
   "id": "119f342e",
   "metadata": {},
   "outputs": [],
   "source": [
    "# Then I make a heatmap:\n",
    "plt.figure(figsize=(10, 8))\n",
    "sns.heatmap(corr, annot = True, cmap = 'coolwarm', vmin = -1, vmax = 1)\n",
    "plt.title('Correlation Heatmap')\n",
    "plt.yticks(rotation=0)\n",
    "plt.xticks(rotation=15)\n",
    "plt.show()"
   ]
  },
  {
   "cell_type": "code",
   "execution_count": null,
   "id": "29c31f1f",
   "metadata": {},
   "outputs": [],
   "source": [
    "\"\"\"\n",
    "Notes on the heatmap:\n",
    "There are no strong correlation between any of these three attributes to eachother.\n",
    "This means that the variables are independent of each other in the dataset.\n",
    "\"\"\"\n",
    "\"\"\"\n",
    "Standarising the data - for each attribute to give equal contributions to pca.\n",
    "I will scenter the data around 0 by substracting the mean of the attribute from the data point,\n",
    "and scale them using the standard diviation, \n",
    "so they have the variance of one.\n",
    "\n",
    "\"\"\"\n",
    "# I will only use the numerical columns, i.e. the continous attributes.\n",
    "# I will use Scikit-learn's StandardSaler:\n",
    "# First I will initialise the standard scaler\n",
    "scaler = StandardScaler()\n",
    "# Then, fit and transform the continous data directly\n",
    "standardised_continuous_attributes = scaler.fit_transform(data[continuous_attributes])"
   ]
  },
  {
   "cell_type": "code",
   "execution_count": null,
   "id": "4bdc2e18",
   "metadata": {},
   "outputs": [],
   "source": [
    "# Now I will make this numpy array I made into a dataframe for the continous data.\n",
    "standardised_continuous_attributes = pd.DataFrame(standardised_continuous_attributes, columns = continuous_attributes)"
   ]
  },
  {
   "cell_type": "code",
   "execution_count": null,
   "id": "ae59cd7a",
   "metadata": {},
   "outputs": [],
   "source": [
    "\"\"\"\n",
    "Carry out pca:\n",
    "----------------------------------------------------------------------------------------------------------------------------------\n",
    "1. Explain the variations compared to the number of pca components.\n",
    "I will begin with a pca analysis WITHOUT reducing the dimensionality, this will allow me to understadn the total explained variance for each component.\n",
    "Then, I will plot a cumulative explained variance plot, to have a look at the explained variance for each component.\n",
    "\"\"\"\n",
    "# I first initialise pca\n",
    "pca = PCA()"
   ]
  },
  {
   "cell_type": "code",
   "execution_count": null,
   "id": "5f006aad",
   "metadata": {},
   "outputs": [],
   "source": [
    "# Then I fit the pca onto our standarised data.\n",
    "pca.fit(standardised_continuous_attributes)"
   ]
  },
  {
   "cell_type": "code",
   "execution_count": null,
   "id": "4367da5d",
   "metadata": {},
   "outputs": [],
   "source": [
    "# I calculate the cumlative explain variance\n",
    "explained_variances = pca.explained_variance_ratio_\n",
    "cumulative_variance = np.cumsum(explained_variances)"
   ]
  },
  {
   "cell_type": "code",
   "execution_count": null,
   "id": "9d3720c9",
   "metadata": {},
   "outputs": [],
   "source": [
    "# I make a plot this cumulative explained variance\n",
    "plt.figure(figsize=(10,6))\n",
    "plt.plot(cumulative_variance, marker='o', linestyle='--', color='b')"
   ]
  },
  {
   "cell_type": "code",
   "execution_count": null,
   "id": "02643c92",
   "metadata": {},
   "outputs": [],
   "source": [
    "# I use a for-loop to add labels to my data:\n",
    "for i, value in enumerate(cumulative_variance):\n",
    "    plt.text(i, value + 0.02, f\"PC{i+1}: {value*100:.2f}%\")"
   ]
  },
  {
   "cell_type": "code",
   "execution_count": null,
   "id": "dba89dd0",
   "metadata": {},
   "outputs": [],
   "source": [
    "plt.xlabel('Number of Components')\n",
    "plt.ylabel('Cumulative Explained Variance')\n",
    "plt.title('Cumulative Explained Variance as Number of Components Increases')\n",
    "plt.grid(True)    # Here I added gridlines onto the plot\n",
    "plt.show()"
   ]
  },
  {
   "cell_type": "code",
   "execution_count": null,
   "id": "7ae5e665",
   "metadata": {},
   "outputs": [],
   "source": [
    "\"\"\"\n",
    "Notes\n",
    "The cumulative explained variance plot showed a dotted line with a linear slop going\n",
    "through three points. This means each PC roughly explains the same amount of variance\n",
    "in the data. This means there are three PCs extracted, and that the data's variance is mostly evenly\n",
    "distributed across these three dimensions.\n",
    "\"\"\"\n",
    "\"\"\"\n",
    "2. Determine the principal directions of the PCA components:\n",
    "At this point I need to find out how much each individual continous attribute,\n",
    "i.e. age, edu-num, and hours-per-week.\n",
    "I will examine how they contribute to each of the PCs, via loadings, weights, coefficients.\n",
    "If an attribute has a high value for a certain PC,\n",
    "then I will consider the attribute as having a strong relationship with that PC.\n",
    "\"\"\"\n",
    "# I isolate the loadings from the PCA model:\n",
    "loadings = pca.components_\n",
    "# I transform the loadings into a df and display using print():\n",
    "loadings_df = pd.DataFrame(loadings, columns=standardised_continuous_attributes.columns,\n",
    "                           index = [f'PC{i+1}' for i in range(loadings.shape[0])])\n",
    "print(loadings_df)\n",
    "\"\"\"\n",
    "From the printed table:\n",
    "I can see the most positive value is between age and PC2, at 0.82.\n",
    "The most negative value is between hours-per-week and PC3, at -0.75.\n",
    "\"\"\""
   ]
  },
  {
   "cell_type": "code",
   "execution_count": null,
   "id": "2a5f9f94",
   "metadata": {},
   "outputs": [],
   "source": [
    "# 3. Project the data onto the principal components in consideration\n",
    "# I will use the PCA model to transform my original data, based on the calculated principal componentes.\n",
    "pca_data = pca.transform(standardised_continuous_attributes)\n",
    "# I visualisat the data that are most represented, i.e. the first two principal components.\n",
    "plt.figure(figsize=(10, 8))\n",
    "plt.scatter(pca_data[:, 0], pca_data[:, 1], alpha=0.5)\n",
    "plt.xlabel('PC1')\n",
    "plt.ylabel('PC2')\n",
    "plt.title('Data Projected onto First Two Principal Components')\n",
    "plt.grid(True)\n",
    "plt.show()"
   ]
  },
  {
   "cell_type": "code",
   "execution_count": null,
   "id": "a47c92de",
   "metadata": {},
   "outputs": [],
   "source": [
    "\"\"\"\n",
    "Notes:\n",
    "There are three lines, well, linear clusters of points,\n",
    "that show a negative linear slop on the graph.\n",
    "\n",
    "\"\"\""
   ]
  }
 ],
 "metadata": {
  "jupytext": {
   "cell_metadata_filter": "-all",
   "main_language": "python",
   "notebook_metadata_filter": "-all"
  }
 },
 "nbformat": 4,
 "nbformat_minor": 5
}
